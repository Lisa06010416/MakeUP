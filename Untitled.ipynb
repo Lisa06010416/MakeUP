{
 "cells": [
  {
   "cell_type": "code",
   "execution_count": 16,
   "metadata": {},
   "outputs": [],
   "source": [
    "from src.lisa.package.utils.logger import get_logger\n",
    "import numpy\n",
    "import cv2\n",
    "from typing import Optional\n",
    "from efficientnet_pytorch import EfficientNet"
   ]
  },
  {
   "cell_type": "code",
   "execution_count": 17,
   "metadata": {},
   "outputs": [],
   "source": [
    "def read_one_image(image_path: str, \n",
    "                   image_color_type: Optional[int]=cv2.IMREAD_COLOR):\n",
    "    \"\"\"\n",
    "    @image_path : String，讀取image的path\n",
    "    @image_color_type : int，可以為 0 => cv2.IMREAD_GRAYSCALE、\n",
    "                                   1 => cv2.IMREAD_COLOR、\n",
    "                                   -1 => cv2.IMREAD_UNCHANGED\n",
    "    \"\"\"\n",
    "    img = cv2.imread(image_path, image_color_type)\n",
    "    assert isinstance(img, numpy.ndarray), \"Read image error!\"\n",
    "    assert img.size != 0, \"Read image error!\"\n",
    "    return img\n",
    "\n",
    "def show_image(image: numpy.ndarray, \n",
    "               image_name: Optional[str] = \"my image\"):\n",
    "    cv2.imshow(\"123\",img)\n",
    "    cv2.waitKey()\n",
    "    cv2.destroyAllWindows()\n",
    "    \n",
    "def describe_model(model):\n",
    "    for name, parameters in model.named_parameters():\n",
    "        print(name, ':', parameters.size())\n",
    "        \n"
   ]
  },
  {
   "cell_type": "code",
   "execution_count": 35,
   "metadata": {},
   "outputs": [],
   "source": [
    "from PIL import Image\n",
    "\n",
    "im = Image.open(image_path).convert('RGB')"
   ]
  },
  {
   "cell_type": "code",
   "execution_count": 38,
   "metadata": {},
   "outputs": [
    {
     "ename": "AttributeError",
     "evalue": "'Image' object has no attribute 'shape'",
     "output_type": "error",
     "traceback": [
      "\u001b[1;31m---------------------------------------------------------------------------\u001b[0m",
      "\u001b[1;31mAttributeError\u001b[0m                            Traceback (most recent call last)",
      "\u001b[1;32m<ipython-input-38-afbdf33aed57>\u001b[0m in \u001b[0;36m<module>\u001b[1;34m()\u001b[0m\n\u001b[1;32m----> 1\u001b[1;33m \u001b[0mim\u001b[0m\u001b[1;33m.\u001b[0m\u001b[0mshape\u001b[0m\u001b[1;33m\u001b[0m\u001b[1;33m\u001b[0m\u001b[0m\n\u001b[0m",
      "\u001b[1;31mAttributeError\u001b[0m: 'Image' object has no attribute 'shape'"
     ]
    }
   ],
   "source": [
    "im.shape"
   ]
  },
  {
   "cell_type": "code",
   "execution_count": 34,
   "metadata": {},
   "outputs": [],
   "source": [
    "image_path = \"data/makeup color test/Train/face color test/3.jpg\"\n",
    "img = read_one_image(image_path,1)"
   ]
  },
  {
   "cell_type": "code",
   "execution_count": 20,
   "metadata": {},
   "outputs": [
    {
     "name": "stdout",
     "output_type": "stream",
     "text": [
      "Loaded pretrained weights for efficientnet-b0\n"
     ]
    }
   ],
   "source": [
    "model = EfficientNet.from_pretrained('efficientnet-b0')"
   ]
  },
  {
   "cell_type": "code",
   "execution_count": 22,
   "metadata": {},
   "outputs": [],
   "source": [
    "import torch\n",
    "img = torch.tensor(img)"
   ]
  },
  {
   "cell_type": "code",
   "execution_count": null,
   "metadata": {},
   "outputs": [],
   "source": [
    "import torchvision.transforms as trns\n",
    "from PIL import Image\n",
    "from scipy.io import loadmat\n",
    "from torch.utils.data import DataLoader\n",
    "from torch.utils.data.dataset import Dataset\n",
    "\n",
    "\n",
    "class dogDataset(Dataset):\n",
    "    def __init__(self, root, split, transform):\n",
    "        # --------------------------------------------\n",
    "        # Initialize paths, transforms, and so on\n",
    "        # --------------------------------------------\n",
    "        self.transform = transform\n",
    "\n",
    "        # Load image path and annotations\n",
    "        mat = loadmat(f'{root}/{split}_list.mat', squeeze_me=True)\n",
    "        self.imgs = mat['file_list']\n",
    "        self.imgs = [f'{root}/Images/{i}' for i in self.imgs]\n",
    "        self.lbls = mat['labels']\n",
    "        assert len(self.imgs) == len(self.lbls), 'mismatched length!'\n",
    "        print('Total data in {} split: {}'.format(split, len(self.imgs)))\n",
    "\n",
    "        # Label from 0 to (len-1)\n",
    "        self.lbls = self.lbls - 1\n",
    "\n",
    "    def __getitem__(self, index):\n",
    "        # --------------------------------------------\n",
    "        # 1. Read from file (using numpy.fromfile, PIL.Image.open)\n",
    "        # 2. Preprocess the data (torchvision.Transform)\n",
    "        # 3. Return the data (e.g. image and label)\n",
    "        # --------------------------------------------\n",
    "        imgpath = self.imgs[index]\n",
    "        img = Image.open(imgpath).convert('RGB')\n",
    "        lbl = int(self.lbls[index])\n",
    "        if self.transform is not None:\n",
    "            img = self.transform(img)\n",
    "        return img, lbl\n",
    "\n",
    "    def __len__(self):\n",
    "        # --------------------------------------------\n",
    "        # Indicate the total size of the dataset\n",
    "        # --------------------------------------------\n",
    "        return len(self.imgs)\n",
    "\n",
    "\n",
    "# Create train/valid transforms\n",
    "# 圖片前處理\n",
    "train_transform = trns.Compose([\n",
    "    trns.Resize((256, 256)),\n",
    "    trns.RandomCrop((224, 224)),\n",
    "    trns.RandomHorizontalFlip(),\n",
    "    trns.ToTensor(),\n",
    "    trns.Normalize(mean=[0.485, 0.456, 0.406], std=[0.229, 0.224, 0.225]),\n",
    "])\n",
    "valid_transform = trns.Compose([\n",
    "    trns.Resize((224, 224)),\n",
    "    trns.ToTensor(),\n",
    "    trns.Normalize(mean=[0.485, 0.456, 0.406], std=[0.229, 0.224, 0.225]),\n",
    "])\n",
    "\n",
    "# Create train/valid datasets\n",
    "train_set = dogDataset(root='./dataset/dogsDataset',\n",
    "                       split='train', transform=train_transform)\n",
    "valid_set = dogDataset(root='./dataset/dogsDataset',\n",
    "                       split='test', transform=valid_transform)\n",
    "\n",
    "# Create train/valid loaders\n",
    "train_loader = DataLoader(\n",
    "    dataset=train_set, batch_size=16, shuffle=True, num_workers=4)\n",
    "valid_loader = DataLoader(\n",
    "    dataset=valid_set, batch_size=16, shuffle=False, num_workers=4)\n",
    "\n",
    "# Get images and labels in a mini-batch of train_loader\n",
    "for imgs, lbls in train_loader:\n",
    "    print('Size of image:', imgs.size())  # batch_size * 3 * 224 * 224\n",
    "    print('Type of image:', imgs.dtype)   # float32\n",
    "    print('Size of label:', lbls.size())  # batch_size\n",
    "    print('Type of label:', lbls.dtype)   # int64(long)\n",
    "    break"
   ]
  }
 ],
 "metadata": {
  "kernelspec": {
   "display_name": "Python 3",
   "language": "python",
   "name": "python3"
  },
  "language_info": {
   "codemirror_mode": {
    "name": "ipython",
    "version": 3
   },
   "file_extension": ".py",
   "mimetype": "text/x-python",
   "name": "python",
   "nbconvert_exporter": "python",
   "pygments_lexer": "ipython3",
   "version": "3.6.12"
  }
 },
 "nbformat": 4,
 "nbformat_minor": 4
}
