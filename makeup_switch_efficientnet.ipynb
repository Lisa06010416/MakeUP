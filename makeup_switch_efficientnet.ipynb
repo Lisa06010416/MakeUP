{
 "cells": [
  {
   "cell_type": "code",
   "execution_count": 1,
   "metadata": {},
   "outputs": [],
   "source": [
    "import torch\n",
    "from PIL import Image\n",
    "from torchvision import datasets, transforms\n",
    "from transformers import Trainer, TrainingArguments, EvaluationStrategy\n",
    "\n",
    "from src.lisa.model.efficientnet import EfficientNetModify"
   ]
  },
  {
   "cell_type": "code",
   "execution_count": 2,
   "metadata": {},
   "outputs": [],
   "source": [
    "image_size = 224"
   ]
  },
  {
   "cell_type": "markdown",
   "metadata": {},
   "source": [
    "#### read image"
   ]
  },
  {
   "cell_type": "code",
   "execution_count": 3,
   "metadata": {},
   "outputs": [],
   "source": [
    "image_path = \"data/makeup color test/Train/face color test/3.jpg\"\n",
    "img = Image.open(image_path)"
   ]
  },
  {
   "cell_type": "markdown",
   "metadata": {},
   "source": [
    "#### image process"
   ]
  },
  {
   "cell_type": "code",
   "execution_count": 4,
   "metadata": {},
   "outputs": [],
   "source": [
    "def imageclassify_collect_fn(batch):\n",
    "    data, labels = zip(*batch)\n",
    "    data = torch.stack(data,0)\n",
    "    return {\"inputs\":data, \"labels\":torch.tensor(labels)}"
   ]
  },
  {
   "cell_type": "code",
   "execution_count": 5,
   "metadata": {},
   "outputs": [],
   "source": [
    "# 準備訓練資料\n",
    "# ImageFolder假設指定路徑下有多個資料夾，每個資料夾內為同一類的圖片，資料加名稱類別名\n",
    "data_path = \"data/makeup color test/Train/\"\n",
    "train_dataset = datasets.ImageFolder(data_path,\n",
    "                                     transforms.Compose([\n",
    "                                        transforms.Resize(image_size),\n",
    "                                        transforms.CenterCrop(image_size),\n",
    "                                        transforms.RandomAffine(degrees=0, translate=(0.05, 0.05)),\n",
    "                                        transforms.RandomHorizontalFlip(),\n",
    "                                        transforms.ToTensor(),\n",
    "                                        transforms.Normalize(mean=[0.485, 0.456, 0.406], std=[0.229, 0.224, 0.225]),\n",
    "                                     ]))"
   ]
  },
  {
   "cell_type": "markdown",
   "metadata": {},
   "source": [
    "#### modify EfficientNet"
   ]
  },
  {
   "cell_type": "code",
   "execution_count": 6,
   "metadata": {},
   "outputs": [
    {
     "name": "stdout",
     "output_type": "stream",
     "text": [
      "Loaded pretrained weights for efficientnet-b0\n"
     ]
    }
   ],
   "source": [
    "model_new = EfficientNetModify.from_pretrained('efficientnet-b0', num_classes = 5, include_top=False)"
   ]
  },
  {
   "cell_type": "markdown",
   "metadata": {},
   "source": [
    "#### Trainer"
   ]
  },
  {
   "cell_type": "code",
   "execution_count": 7,
   "metadata": {},
   "outputs": [],
   "source": [
    "args_dict = {\n",
    "    \"num_train_epochs\":1,          # 訓練代數\n",
    "    \"per_device_train_batch_size\":2,    # train時的batch size\n",
    "    \"per_device_eval_batch_size\":2,    # eval時的batch size\n",
    "    \"gradient_accumulation_steps\":1,    # 每幾個batch update一次參數\n",
    "    \"warmup_steps\":500,          # 前幾個batch要做warm up\n",
    "    \"weight_decay\":0.00001,          # learning rate\n",
    "    \"eval_steps\":500,            # 每幾個step要eval 預設500\n",
    "    \"save_steps\":500,            # 每幾個step要save 預設500\n",
    "    \"logging_steps\":100,\n",
    "    \"evaluation_strategy\":EvaluationStrategy.STEPS,   # 用STEPS來判斷是否要eval\n",
    "    \"dataloader_num_workers\":0,      # 開幾個CPU做dataloader\n",
    "}"
   ]
  },
  {
   "cell_type": "code",
   "execution_count": 8,
   "metadata": {},
   "outputs": [],
   "source": [
    "train_setting = {\n",
    "                # -----data setting-----\n",
    "                \"train_dataset\" : train_dataset,\n",
    "#                 \"eval_dataset\" : valid_dataset,\n",
    "#                 \"train_sampler\" : weight_sampler,\n",
    "#                 \"compute_metrics\":metric.entity_mention_metric\n",
    "                }"
   ]
  },
  {
   "cell_type": "code",
   "execution_count": 9,
   "metadata": {},
   "outputs": [],
   "source": [
    "training_args = TrainingArguments(\n",
    "                                  output_dir=\"./results\",  # 輸出模型的資料夾\n",
    "                                  **args_dict\n",
    "                                 )"
   ]
  },
  {
   "cell_type": "code",
   "execution_count": 10,
   "metadata": {},
   "outputs": [],
   "source": [
    "# get trainer\n",
    "trainer = Trainer(\n",
    "                    model=model_new,\n",
    "                    args=training_args,\n",
    "                    train_dataset = train_dataset,\n",
    "                    data_collator = imageclassify_collect_fn\n",
    "                  )"
   ]
  },
  {
   "cell_type": "code",
   "execution_count": 11,
   "metadata": {
    "pycharm": {
     "name": "#%%\n"
    }
   },
   "outputs": [
    {
     "data": {
      "text/html": [
       "\n",
       "    <div>\n",
       "        <style>\n",
       "            /* Turns off some styling */\n",
       "            progress {\n",
       "                /* gets rid of default border in Firefox and Opera. */\n",
       "                border: none;\n",
       "                /* Needs to be in here for Safari polyfill so background images work as expected. */\n",
       "                background-size: auto;\n",
       "            }\n",
       "        </style>\n",
       "      \n",
       "      <progress value='5' max='5' style='width:300px; height:20px; vertical-align: middle;'></progress>\n",
       "      [5/5 00:00, Epoch 1/1]\n",
       "    </div>\n",
       "    <table border=\"1\" class=\"dataframe\">\n",
       "  <thead>\n",
       "    <tr style=\"text-align: left;\">\n",
       "      <th>Step</th>\n",
       "      <th>Training Loss</th>\n",
       "      <th>Validation Loss</th>\n",
       "    </tr>\n",
       "  </thead>\n",
       "  <tbody>\n",
       "  </tbody>\n",
       "</table><p>"
      ],
      "text/plain": [
       "<IPython.core.display.HTML object>"
      ]
     },
     "metadata": {},
     "output_type": "display_data"
    },
    {
     "data": {
      "text/plain": [
       "TrainOutput(global_step=5, training_loss=1.6374141693115234)"
      ]
     },
     "execution_count": 11,
     "metadata": {},
     "output_type": "execute_result"
    }
   ],
   "source": [
    "trainer.train()"
   ]
  }
 ],
 "metadata": {
  "kernelspec": {
   "display_name": "Python 3",
   "language": "python",
   "name": "python3"
  },
  "language_info": {
   "codemirror_mode": {
    "name": "ipython",
    "version": 3
   },
   "file_extension": ".py",
   "mimetype": "text/x-python",
   "name": "python",
   "nbconvert_exporter": "python",
   "pygments_lexer": "ipython3",
   "version": "3.6.12"
  }
 },
 "nbformat": 4,
 "nbformat_minor": 4
}
